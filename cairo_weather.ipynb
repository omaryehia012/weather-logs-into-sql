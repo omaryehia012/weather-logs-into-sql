{
 "cells": [
  {
   "cell_type": "code",
   "execution_count": 1,
   "metadata": {},
   "outputs": [],
   "source": [
    "import requests\n",
    "from bs4 import BeautifulSoup\n",
    "from datetime import datetime\n",
    "import time\n",
    "import sqlite3"
   ]
  },
  {
   "cell_type": "code",
   "execution_count": 2,
   "metadata": {},
   "outputs": [
    {
     "data": {
      "text/plain": [
       "<function Connection.close>"
      ]
     },
     "execution_count": 2,
     "metadata": {},
     "output_type": "execute_result"
    }
   ],
   "source": [
    "conn=sqlite3.connect(\"cairo_weather.db\")\n",
    "cursor=conn.execute(\"CREATE table weather(id integer primary key autoincrement, temp int , wind int , humidity int , vissibility int , pressure int, time_now datetime)\")\n",
    "conn.close"
   ]
  },
  {
   "cell_type": "code",
   "execution_count": 21,
   "metadata": {},
   "outputs": [
    {
     "name": "stdout",
     "output_type": "stream",
     "text": [
      "14 || 6 || 77 || 6000 || 1021.0 || 2021-12-23 21:36:21.250156\n",
      "14 || 6 || 77 || 6000 || 1021.0 || 2021-12-23 21:36:23.129695\n",
      "14 || 6 || 77 || 6000 || 1021.0 || 2021-12-23 21:36:25.188782\n",
      "14 || 6 || 77 || 6000 || 1021.0 || 2021-12-23 21:36:27.189290\n",
      "14 || 6 || 77 || 6000 || 1021.0 || 2021-12-23 21:36:29.166206\n",
      "14 || 6 || 77 || 6000 || 1021.0 || 2021-12-23 21:36:31.215356\n",
      "14 || 6 || 77 || 6000 || 1021.0 || 2021-12-23 21:36:33.221904\n",
      "14 || 6 || 77 || 6000 || 1021.0 || 2021-12-23 21:36:35.180620\n",
      "14 || 6 || 77 || 6000 || 1021.0 || 2021-12-23 21:36:37.161308\n",
      "14 || 6 || 77 || 6000 || 1021.0 || 2021-12-23 21:36:39.185576\n"
     ]
    }
   ],
   "source": [
    "for i in range(10):\n",
    "    response = requests.request('GET', 'https://eg.freemeteo.com/weather/cairo/current-weather/location/?gid=360630&language=english&country=egypt')\n",
    "    soup = BeautifulSoup(response.text, 'html.parser')\n",
    "    \n",
    "    div = soup.find('div', attrs={'class':'last-renew-info'})\n",
    "    temp = int(div.find('div', class_='temp').text.replace('°C', '')) # 1: Temperature\n",
    "    \n",
    "    wind = div.find('div', class_='wind')\n",
    "    white = wind.find('span', class_='white')\n",
    "    wind_speed = int(white.find('b').text)  # 2: Wind speed\n",
    "    \n",
    "    stats = div.find(class_='stats')\n",
    "    stats_list = stats.text.split('|')\n",
    "    \n",
    "    humidity = stats_list[0].strip().split('\\r\\n')[1].strip().replace('%', '')    # 3: Humidity\n",
    "    visibility = stats_list[1].strip().split('\\r\\n')[1].strip().replace('m', '')  # 4: Visibility\n",
    "    pressure = stats_list[2].strip().split('\\r\\n')[1].strip().split('mb')[0]    # 5: Pressure\n",
    "    \n",
    "    date = datetime.now()  # 6: time_now\n",
    "    \n",
    "    ###### YOUR CODE HERE\n",
    "    conn=sqlite3.connect(\"cairo_weather.db\")\n",
    "    weather=conn.execute(\"insert into weather (temp, wind, humidity, vissibility, pressure, time_now ) values(?,?,?,?,?,?)\", [temp, wind_speed, humidity, visibility, pressure, date])\n",
    "    conn.commit()\n",
    "   \n",
    "    print(temp, wind_speed, humidity, visibility, pressure, date, sep=\" || \")\n",
    "    \n",
    "    time.sleep(1)\n",
    "    conn.close()"
   ]
  },
  {
   "cell_type": "code",
   "execution_count": 22,
   "metadata": {},
   "outputs": [
    {
     "data": {
      "text/plain": [
       "[(1, 14, 6, 77, 6000, 1021, '2021-12-23 21:36:21.250156'),\n",
       " (2, 14, 6, 77, 6000, 1021, '2021-12-23 21:36:23.129695'),\n",
       " (3, 14, 6, 77, 6000, 1021, '2021-12-23 21:36:25.188782'),\n",
       " (4, 14, 6, 77, 6000, 1021, '2021-12-23 21:36:27.189290'),\n",
       " (5, 14, 6, 77, 6000, 1021, '2021-12-23 21:36:29.166206'),\n",
       " (6, 14, 6, 77, 6000, 1021, '2021-12-23 21:36:31.215356'),\n",
       " (7, 14, 6, 77, 6000, 1021, '2021-12-23 21:36:33.221904'),\n",
       " (8, 14, 6, 77, 6000, 1021, '2021-12-23 21:36:35.180620'),\n",
       " (9, 14, 6, 77, 6000, 1021, '2021-12-23 21:36:37.161308'),\n",
       " (10, 14, 6, 77, 6000, 1021, '2021-12-23 21:36:39.185576')]"
      ]
     },
     "execution_count": 22,
     "metadata": {},
     "output_type": "execute_result"
    }
   ],
   "source": [
    "\n",
    "conn=sqlite3.connect(\"cairo_weather.db\")\n",
    "weather=conn.execute(\"select * from weather\").fetchall()\n",
    "conn.close()\n",
    "weather"
   ]
  },
  {
   "cell_type": "code",
   "execution_count": 23,
   "metadata": {},
   "outputs": [
    {
     "data": {
      "text/html": [
       "<div>\n",
       "<style scoped>\n",
       "    .dataframe tbody tr th:only-of-type {\n",
       "        vertical-align: middle;\n",
       "    }\n",
       "\n",
       "    .dataframe tbody tr th {\n",
       "        vertical-align: top;\n",
       "    }\n",
       "\n",
       "    .dataframe thead th {\n",
       "        text-align: right;\n",
       "    }\n",
       "</style>\n",
       "<table border=\"1\" class=\"dataframe\">\n",
       "  <thead>\n",
       "    <tr style=\"text-align: right;\">\n",
       "      <th></th>\n",
       "      <th>id</th>\n",
       "      <th>temp</th>\n",
       "      <th>wind</th>\n",
       "      <th>humidity</th>\n",
       "      <th>vissibility</th>\n",
       "      <th>pressure</th>\n",
       "      <th>time_now</th>\n",
       "    </tr>\n",
       "  </thead>\n",
       "  <tbody>\n",
       "    <tr>\n",
       "      <th>0</th>\n",
       "      <td>1</td>\n",
       "      <td>14</td>\n",
       "      <td>6</td>\n",
       "      <td>77</td>\n",
       "      <td>6000</td>\n",
       "      <td>1021</td>\n",
       "      <td>2021-12-23 21:36:21.250156</td>\n",
       "    </tr>\n",
       "    <tr>\n",
       "      <th>1</th>\n",
       "      <td>2</td>\n",
       "      <td>14</td>\n",
       "      <td>6</td>\n",
       "      <td>77</td>\n",
       "      <td>6000</td>\n",
       "      <td>1021</td>\n",
       "      <td>2021-12-23 21:36:23.129695</td>\n",
       "    </tr>\n",
       "    <tr>\n",
       "      <th>2</th>\n",
       "      <td>3</td>\n",
       "      <td>14</td>\n",
       "      <td>6</td>\n",
       "      <td>77</td>\n",
       "      <td>6000</td>\n",
       "      <td>1021</td>\n",
       "      <td>2021-12-23 21:36:25.188782</td>\n",
       "    </tr>\n",
       "    <tr>\n",
       "      <th>3</th>\n",
       "      <td>4</td>\n",
       "      <td>14</td>\n",
       "      <td>6</td>\n",
       "      <td>77</td>\n",
       "      <td>6000</td>\n",
       "      <td>1021</td>\n",
       "      <td>2021-12-23 21:36:27.189290</td>\n",
       "    </tr>\n",
       "    <tr>\n",
       "      <th>4</th>\n",
       "      <td>5</td>\n",
       "      <td>14</td>\n",
       "      <td>6</td>\n",
       "      <td>77</td>\n",
       "      <td>6000</td>\n",
       "      <td>1021</td>\n",
       "      <td>2021-12-23 21:36:29.166206</td>\n",
       "    </tr>\n",
       "    <tr>\n",
       "      <th>5</th>\n",
       "      <td>6</td>\n",
       "      <td>14</td>\n",
       "      <td>6</td>\n",
       "      <td>77</td>\n",
       "      <td>6000</td>\n",
       "      <td>1021</td>\n",
       "      <td>2021-12-23 21:36:31.215356</td>\n",
       "    </tr>\n",
       "    <tr>\n",
       "      <th>6</th>\n",
       "      <td>7</td>\n",
       "      <td>14</td>\n",
       "      <td>6</td>\n",
       "      <td>77</td>\n",
       "      <td>6000</td>\n",
       "      <td>1021</td>\n",
       "      <td>2021-12-23 21:36:33.221904</td>\n",
       "    </tr>\n",
       "    <tr>\n",
       "      <th>7</th>\n",
       "      <td>8</td>\n",
       "      <td>14</td>\n",
       "      <td>6</td>\n",
       "      <td>77</td>\n",
       "      <td>6000</td>\n",
       "      <td>1021</td>\n",
       "      <td>2021-12-23 21:36:35.180620</td>\n",
       "    </tr>\n",
       "    <tr>\n",
       "      <th>8</th>\n",
       "      <td>9</td>\n",
       "      <td>14</td>\n",
       "      <td>6</td>\n",
       "      <td>77</td>\n",
       "      <td>6000</td>\n",
       "      <td>1021</td>\n",
       "      <td>2021-12-23 21:36:37.161308</td>\n",
       "    </tr>\n",
       "    <tr>\n",
       "      <th>9</th>\n",
       "      <td>10</td>\n",
       "      <td>14</td>\n",
       "      <td>6</td>\n",
       "      <td>77</td>\n",
       "      <td>6000</td>\n",
       "      <td>1021</td>\n",
       "      <td>2021-12-23 21:36:39.185576</td>\n",
       "    </tr>\n",
       "  </tbody>\n",
       "</table>\n",
       "</div>"
      ],
      "text/plain": [
       "   id  temp  wind  humidity  vissibility  pressure                    time_now\n",
       "0   1    14     6        77         6000      1021  2021-12-23 21:36:21.250156\n",
       "1   2    14     6        77         6000      1021  2021-12-23 21:36:23.129695\n",
       "2   3    14     6        77         6000      1021  2021-12-23 21:36:25.188782\n",
       "3   4    14     6        77         6000      1021  2021-12-23 21:36:27.189290\n",
       "4   5    14     6        77         6000      1021  2021-12-23 21:36:29.166206\n",
       "5   6    14     6        77         6000      1021  2021-12-23 21:36:31.215356\n",
       "6   7    14     6        77         6000      1021  2021-12-23 21:36:33.221904\n",
       "7   8    14     6        77         6000      1021  2021-12-23 21:36:35.180620\n",
       "8   9    14     6        77         6000      1021  2021-12-23 21:36:37.161308\n",
       "9  10    14     6        77         6000      1021  2021-12-23 21:36:39.185576"
      ]
     },
     "execution_count": 23,
     "metadata": {},
     "output_type": "execute_result"
    }
   ],
   "source": [
    "import pandas as pd\n",
    "conn=sqlite3.connect(\"cairo_weather.db\")\n",
    "df=pd.read_sql(\"select * from weather\",conn)\n",
    "conn.close()\n",
    "df"
   ]
  }
 ],
 "metadata": {
  "interpreter": {
   "hash": "e5d962a208ed4aae50d32ad6ebc0b56936e2e09086feb75e6affc10673db1cb9"
  },
  "kernelspec": {
   "display_name": "Python 3.10.0 64-bit",
   "language": "python",
   "name": "python3"
  },
  "language_info": {
   "codemirror_mode": {
    "name": "ipython",
    "version": 3
   },
   "file_extension": ".py",
   "mimetype": "text/x-python",
   "name": "python",
   "nbconvert_exporter": "python",
   "pygments_lexer": "ipython3",
   "version": "3.7.6"
  },
  "orig_nbformat": 4
 },
 "nbformat": 4,
 "nbformat_minor": 2
}
